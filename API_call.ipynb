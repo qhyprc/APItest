{
  "nbformat": 4,
  "nbformat_minor": 0,
  "metadata": {
    "colab": {
      "name": "API call.ipynb",
      "provenance": [],
      "authorship_tag": "ABX9TyMweEp5FiQ+5Td9yuCVYk3o",
      "include_colab_link": true
    },
    "kernelspec": {
      "name": "python3",
      "display_name": "Python 3"
    },
    "language_info": {
      "name": "python"
    }
  },
  "cells": [
    {
      "cell_type": "markdown",
      "metadata": {
        "id": "view-in-github",
        "colab_type": "text"
      },
      "source": [
        "<a href=\"https://colab.research.google.com/github/qhyprc/APItest/blob/main/API_call.ipynb\" target=\"_parent\"><img src=\"https://colab.research.google.com/assets/colab-badge.svg\" alt=\"Open In Colab\"/></a>"
      ]
    },
    {
      "cell_type": "code",
      "metadata": {
        "id": "pj245GJ09KoZ",
        "colab": {
          "base_uri": "https://localhost:8080/"
        },
        "outputId": "8b377f30-1d76-4d38-881b-3cadfedcca79"
      },
      "source": [
        "#!/usr/bin/python3\n",
        "import requests\n",
        "import pprint\n",
        "AOIF_CHAR = \"https://www.anapioficeandfire.com/api/characters/\"\n",
        "\n",
        "def got_api_json(URL):\n",
        "  return requests.get(URL).json()\n",
        "\n",
        "def main():\n",
        "  while True:\n",
        "    try:\n",
        "\n",
        "        got_charToLookup = input(\"Pick a number between 1 and 1000 to return info on a GoT character! or exit: \" ).lower()\n",
        "\n",
        "        if (got_charToLookup) == \"exit\" :\n",
        "          break\n",
        "\n",
        "        else:\n",
        "\n",
        "          got_dj = got_api_json(AOIF_CHAR + got_charToLookup)\n",
        "          print(\"house affiliated:\")\n",
        "\n",
        "          try:\n",
        "            house_name = got_api_json(got_dj['allegiances'][0])['name']\n",
        "            print(house_name)\n",
        "          except Exception:\n",
        "            print(\"None\")\n",
        "\n",
        "          print(\"book name: \")\n",
        "          try:\n",
        "            for book_url in got_dj['books']:\n",
        "              book_name = got_api_json(book_url)['name']\n",
        "              print(book_name)\n",
        "          except Exception:\n",
        "            print(\"None\")\n",
        "    \n",
        "    except ValueError:\n",
        "        print('No such characters, please pick number 1 - 1000')\n",
        "        continue\n",
        "    except Exception as res:\n",
        "        print(res)\n",
        "        continue\n",
        "\n",
        "\n",
        "if __name__ == \"__main__\":\n",
        "        main()"
      ],
      "execution_count": null,
      "outputs": [
        {
          "output_type": "stream",
          "text": [
            "Pick a number between 1 and 1000 to return info on a GoT character! or exit: 15\n",
            "house affiliated:\n",
            "None\n",
            "book name: \n",
            "A Feast for Crows\n",
            "A Dance with Dragons\n",
            "Pick a number between 1 and 1000 to return info on a GoT character! or exit: 23\n",
            "house affiliated:\n",
            "None\n",
            "book name: \n",
            "A Clash of Kings\n",
            "Pick a number between 1 and 1000 to return info on a GoT character! or exit: 2\n",
            "house affiliated:\n",
            "House Stark of Winterfell\n",
            "book name: \n",
            "A Game of Thrones\n",
            "A Clash of Kings\n",
            "A Storm of Swords\n",
            "A Feast for Crows\n",
            "A Dance with Dragons\n",
            "Pick a number between 1 and 1000 to return info on a GoT character! or exit: 88\n",
            "house affiliated:\n",
            "House Hunt\n",
            "book name: \n",
            "A Feast for Crows\n",
            "Pick a number between 1 and 1000 to return info on a GoT character! or exit: asdf\n",
            "No such characters, please pick number 1 - 1000\n",
            "Pick a number between 1 and 1000 to return info on a GoT character! or exit: 2\n",
            "house affiliated:\n",
            "House Stark of Winterfell\n",
            "book name: \n",
            "A Game of Thrones\n",
            "A Clash of Kings\n",
            "A Storm of Swords\n",
            "A Feast for Crows\n",
            "A Dance with Dragons\n"
          ],
          "name": "stdout"
        }
      ]
    }
  ]
}